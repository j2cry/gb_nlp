{
 "cells": [
  {
   "cell_type": "code",
   "execution_count": 1,
   "metadata": {},
   "outputs": [
    {
     "name": "stdout",
     "output_type": "stream",
     "text": [
      "Selected device: cuda\n"
     ]
    }
   ],
   "source": [
    "import re\n",
    "import random\n",
    "from itertools import chain\n",
    "from collections import Counter\n",
    "from tqdm import tqdm\n",
    "\n",
    "import torch\n",
    "from torch.nn.utils.rnn import pad_sequence\n",
    "\n",
    "from sklearn.model_selection import train_test_split\n",
    "\n",
    "device = 'cuda' if torch.cuda.is_available() else 'cpu'\n",
    "print(f'Selected device: {device}')"
   ]
  },
  {
   "cell_type": "markdown",
   "metadata": {},
   "source": [
    "### load data"
   ]
  },
  {
   "cell_type": "code",
   "execution_count": 2,
   "metadata": {},
   "outputs": [],
   "source": [
    "def word_preprocess(w):\n",
    "    w = w.lower().strip()\n",
    "    # creating a space between a word and the punctuation following it\n",
    "    # eg: \"he is a boy.\" => \"he is a boy .\"\n",
    "    # Reference:- https://stackoverflow.com/questions/3645931/python-padding-punctuation-with-white-spaces-keeping-punctuation\n",
    "    w = re.sub(r\"([?.!,])\", r\" \\1 \", w)\n",
    "    w = re.sub(r'[\" \"]+', \" \", w)\n",
    "    # replacing everything with space except (a-z, A-Z, \".\", \"?\", \"!\", \",\")\n",
    "    w = re.sub(r\"[^a-zA-Zа-яА-Я?.!,']+\", \" \", w)\n",
    "    w = w.strip()\n",
    "    # adding a start and an end token to the sentence\n",
    "    # so that the model know when to start and stop predicting.\n",
    "    w = '<start> ' + w + ' <end>'\n",
    "    return w"
   ]
  },
  {
   "cell_type": "code",
   "execution_count": 3,
   "metadata": {},
   "outputs": [],
   "source": [
    "def read_words(path, n=None, seed=None):\n",
    "    random.seed(seed)\n",
    "    with open(path, 'r', encoding='utf-8') as f:\n",
    "        lines = f.readlines()[:n] if seed == False else random.sample(f.readlines(), n)\n",
    "        lines = [[word_preprocess(w).split() for w in ln.split('\\t')[:2]] for ln in lines]    \n",
    "    return zip(*lines)"
   ]
  },
  {
   "cell_type": "markdown",
   "metadata": {},
   "source": [
    "### build vocabulary"
   ]
  },
  {
   "cell_type": "code",
   "execution_count": 4,
   "metadata": {},
   "outputs": [],
   "source": [
    "class Vocab:\n",
    "    def __init__(self, sentences):\n",
    "        self.counts = Counter(list(chain(*sentences)))\n",
    "        self.id2token = dict(enumerate(self.counts.keys(), 1))\n",
    "        self.token2id = {v: k for k, v in self.id2token.items()}\n",
    "    \n",
    "    def as_tensor(self, sentences):\n",
    "        t = [torch.as_tensor([idx for w in s if (idx := self.token2id.get(w)) is not None]) for s in sentences]\n",
    "        return torch.nn.utils.rnn.pad_sequence(t).T\n",
    "    \n",
    "    @property\n",
    "    def size(self):\n",
    "        return len(self.counts)"
   ]
  },
  {
   "cell_type": "code",
   "execution_count": 5,
   "metadata": {},
   "outputs": [
    {
     "data": {
      "text/plain": [
       "(7334, 20502)"
      ]
     },
     "execution_count": 5,
     "metadata": {},
     "output_type": "execute_result"
    }
   ],
   "source": [
    "# load data and build vocabs\n",
    "en, ru = read_words('rus-eng/rus.txt', n=100000, seed=False)\n",
    "en_vocab = Vocab(en)\n",
    "ru_vocab = Vocab(ru)\n",
    "\n",
    "# size overview\n",
    "en_vocab.size, ru_vocab.size"
   ]
  },
  {
   "cell_type": "code",
   "execution_count": 6,
   "metadata": {},
   "outputs": [
    {
     "data": {
      "text/plain": [
       "(torch.Size([100000, 11]), torch.Size([100000, 15]))"
      ]
     },
     "execution_count": 6,
     "metadata": {},
     "output_type": "execute_result"
    }
   ],
   "source": [
    "# build tensors\n",
    "tensor_en = en_vocab.as_tensor(en)\n",
    "tensor_ru = ru_vocab.as_tensor(ru)\n",
    "\n",
    "tensor_en.shape, tensor_ru.shape"
   ]
  },
  {
   "cell_type": "markdown",
   "metadata": {},
   "source": [
    "### split & build dataset"
   ]
  },
  {
   "cell_type": "code",
   "execution_count": 7,
   "metadata": {},
   "outputs": [],
   "source": [
    "# train/valid split\n",
    "train_en, valid_en, train_ru, valid_ru = train_test_split(tensor_en, tensor_ru, test_size=0.2)"
   ]
  },
  {
   "cell_type": "code",
   "execution_count": 8,
   "metadata": {},
   "outputs": [],
   "source": [
    "class Seq2seqDataset(torch.utils.data.Dataset):\n",
    "    def __init__(self, *seq):\n",
    "        max_shape = max([sq.shape[1] for sq in seq])\n",
    "        ashapes = [max_shape - sq.shape[1] for sq in seq]\n",
    "        self.seq = [torch.nn.functional.pad(sq, (0, applen)) for sq, applen in zip(seq, ashapes)]\n",
    "        # self.seq = seq\n",
    "\n",
    "    def __getitem__(self, index):\n",
    "        return [seq[index] for seq in self.seq]\n",
    "\n",
    "    def __len__(self):\n",
    "        return len(self.seq[0])"
   ]
  },
  {
   "cell_type": "code",
   "execution_count": 9,
   "metadata": {},
   "outputs": [],
   "source": [
    "BATCH_SIZE = 512\n",
    "\n",
    "train_dataset = Seq2seqDataset(train_ru, train_en)\n",
    "valid_dataset = Seq2seqDataset(valid_ru, valid_en)\n",
    "\n",
    "train_loader = torch.utils.data.DataLoader(train_dataset, batch_size=BATCH_SIZE, shuffle=True)\n",
    "valid_loader = torch.utils.data.DataLoader(train_dataset, batch_size=BATCH_SIZE, shuffle=False)"
   ]
  },
  {
   "cell_type": "markdown",
   "metadata": {},
   "source": [
    "### Encoder / Decoder"
   ]
  },
  {
   "cell_type": "code",
   "execution_count": 10,
   "metadata": {},
   "outputs": [],
   "source": [
    "class Encoder(torch.nn.Module):\n",
    "    def __init__(self, input_dim, embedding_dim, hidden_dim, n_layers, dropout):\n",
    "        super().__init__()\n",
    "        self.embedding = torch.nn.Embedding(input_dim, embedding_dim)\n",
    "        # self.rnn = torch.nn.GRU(embedding_dim, hidden_dim, num_layers=2, dropout=dropout)\n",
    "        # self.rnn = torch.nn.GRU(embedding_dim, hidden_dim, n_layers, dropout=dropout, bidirectional=True)\n",
    "        self.rnn = torch.nn.GRU(embedding_dim, hidden_dim, num_layers=2, dropout=dropout, batch_first=True)\n",
    "        # self.rnn = torch.nn.GRU(embedding_dim, hidden_dim, num_layers=2, dropout=dropout, batch_first=True, bidirectional=True)\n",
    "        self.dropout = torch.nn.Dropout(dropout)\n",
    "        \n",
    "    def forward(self, x):\n",
    "        emb = self.dropout(self.embedding(x))\n",
    "        out, hid = self.rnn(emb)\n",
    "        return hid"
   ]
  },
  {
   "cell_type": "code",
   "execution_count": 11,
   "metadata": {},
   "outputs": [],
   "source": [
    "class Decoder(torch.nn.Module):\n",
    "    def __init__(self, output_dim, embedding_dim, hidden_dim, n_layers, dropout):\n",
    "        super().__init__()\n",
    "        self.output_dim = output_dim\n",
    "        self.embedding = torch.nn.Embedding(output_dim, embedding_dim)\n",
    "        # self.rnn = torch.nn.GRU(embedding_dim, hidden_dim, num_layers=2, dropout=dropout)\n",
    "        # self.rnn = torch.nn.GRU(embedding_dim, hidden_dim, n_layers, dropout=dropout, bidirectional=True)\n",
    "        self.rnn = torch.nn.GRU(embedding_dim, hidden_dim, num_layers=2, dropout=dropout, batch_first=True)\n",
    "        # self.rnn = torch.nn.GRU(embedding_dim, hidden_dim, num_layers=2, dropout=dropout, batch_first=True, bidirectional=True)\n",
    "        self.fc = torch.nn.Linear(hidden_dim, output_dim)\n",
    "        self.dropout = torch.nn.Dropout(dropout)\n",
    "        \n",
    "    def forward(self, x, h):\n",
    "        # x = x.unsqueeze(0)\n",
    "        emb = self.dropout(self.embedding(x))\n",
    "        out, hid = self.rnn(emb, h)\n",
    "        # print(f'DEC RNN output: {out.shape}')\n",
    "\n",
    "        pred = self.fc(out)\n",
    "        # pred = self.fc(out.squeeze(0))\n",
    "        # print(f'PRED shape: {pred.shape}')\n",
    "        return pred, hid"
   ]
  },
  {
   "cell_type": "code",
   "execution_count": 12,
   "metadata": {},
   "outputs": [],
   "source": [
    "class Seq2Seq(torch.nn.Module):\n",
    "    def __init__(self, input_dim, output_dim, embedding_dim, hidden_dim, n_layers=2, dropout=0.1, device=device):\n",
    "        super().__init__()\n",
    "        self.encoder = Encoder(input_dim, embedding_dim, hidden_dim, n_layers, dropout)\n",
    "        self.decoder = Decoder(output_dim, embedding_dim, hidden_dim, n_layers, dropout)\n",
    "        self.device = device\n",
    "                \n",
    "    def forward(self, x, t, forcing_ratio=0.5):\n",
    "        # print(f'X shape: {x.shape}')\n",
    "        # print(f'T shape: {t.shape}')\n",
    "        \n",
    "        # tensor to store decoder outputs\n",
    "        outs = torch.zeros(t.shape[1], t.shape[0], self.decoder.output_dim).to(self.device)\n",
    "        # print(f'outs shape: {outs.shape}')\n",
    "        # last hidden state of the encoder is used as the initial hidden state of the decoder\n",
    "        h = self.encoder(x)\n",
    "        # print(f'encoder hidden shape: {h.shape}')\n",
    "        # first input to the decoder is the  tokens\n",
    "        # ins = t[:, 0]\n",
    "        \n",
    "        for i in range(0, t.shape[1]):\n",
    "            ins = t[:, i].unsqueeze(1)\n",
    "            # print(f'ins shape: {ins.shape}')\n",
    "\n",
    "            #insert input token embedding, previous hidden and previous cell states\n",
    "            #receive output tensor (predictions) and new hidden and cell states\n",
    "            out, h = self.decoder(ins, h)\n",
    "            outs[i] = out.squeeze()\n",
    "            # ins = t[:, i]\n",
    "            \n",
    "            # if forcing, use actual next token as next input; if not, use predicted token\n",
    "            force = random.random() < forcing_ratio\n",
    "            ins = t[:, i] if force else outs.argmax(axis=1)\n",
    "        return outs.permute(1, 2, 0)\n",
    "        # return outs"
   ]
  },
  {
   "cell_type": "code",
   "execution_count": 13,
   "metadata": {},
   "outputs": [],
   "source": [
    "INPUT_DIM = ru_vocab.size + 1\n",
    "OUTPUT_DIM = en_vocab.size + 1\n",
    "\n",
    "model = Seq2Seq(INPUT_DIM, OUTPUT_DIM, embedding_dim=128, hidden_dim=256, n_layers=4).to(device)\n",
    "\n",
    "optimizer = torch.optim.Adam(model.parameters(), lr=0.1)\n",
    "criterion = torch.nn.CrossEntropyLoss()"
   ]
  },
  {
   "cell_type": "code",
   "execution_count": 14,
   "metadata": {},
   "outputs": [
    {
     "name": "stderr",
     "output_type": "stream",
     "text": [
      "Epoch 1/10: 100%|██████████| 157/157 [00:36<00:00,  4.27it/s, cumulative loss per item=0.00701]\n",
      "Epoch 2/10: 100%|██████████| 157/157 [00:36<00:00,  4.30it/s, cumulative loss per item=0.00371]\n",
      "Epoch 3/10: 100%|██████████| 157/157 [00:36<00:00,  4.31it/s, cumulative loss per item=0.00277]\n",
      "Epoch 4/10: 100%|██████████| 157/157 [00:36<00:00,  4.29it/s, cumulative loss per item=0.00253]\n",
      "Epoch 5/10: 100%|██████████| 157/157 [00:36<00:00,  4.31it/s, cumulative loss per item=0.00234]\n",
      "Epoch 6/10: 100%|██████████| 157/157 [00:36<00:00,  4.29it/s, cumulative loss per item=0.0024] \n",
      "Epoch 7/10: 100%|██████████| 157/157 [00:36<00:00,  4.28it/s, cumulative loss per item=0.00249]\n",
      "Epoch 8/10: 100%|██████████| 157/157 [00:36<00:00,  4.29it/s, cumulative loss per item=0.00226]\n",
      "Epoch 9/10: 100%|██████████| 157/157 [00:38<00:00,  4.06it/s, cumulative loss per item=0.00209]\n",
      "Epoch 10/10: 100%|██████████| 157/157 [00:36<00:00,  4.26it/s, cumulative loss per item=0.00227]\n"
     ]
    },
    {
     "data": {
      "text/plain": [
       "Seq2Seq(\n",
       "  (encoder): Encoder(\n",
       "    (embedding): Embedding(20503, 128)\n",
       "    (rnn): GRU(128, 256, num_layers=2, batch_first=True, dropout=0.1)\n",
       "    (dropout): Dropout(p=0.1, inplace=False)\n",
       "  )\n",
       "  (decoder): Decoder(\n",
       "    (embedding): Embedding(7335, 128)\n",
       "    (rnn): GRU(128, 256, num_layers=2, batch_first=True, dropout=0.1)\n",
       "    (fc): Linear(in_features=256, out_features=7335, bias=True)\n",
       "    (dropout): Dropout(p=0.1, inplace=False)\n",
       "  )\n",
       ")"
      ]
     },
     "execution_count": 14,
     "metadata": {},
     "output_type": "execute_result"
    }
   ],
   "source": [
    "epochs = 10\n",
    "dev = device\n",
    "optim = optimizer\n",
    "\n",
    "model.train()\n",
    "for ep in range(epochs):\n",
    "    sum_loss, items = 0.0, 0\n",
    "    pbar = tqdm(enumerate(train_loader), total=len(train_loader), desc=f'Epoch {ep + 1}/{epochs}')\n",
    "    for i, batch in pbar:\n",
    "        inputs, target = batch[0].to(dev), batch[1].to(dev)\n",
    "        optim.zero_grad()\n",
    "\n",
    "        outputs = model(inputs, target)\n",
    "        \n",
    "        loss = criterion(outputs, target)\n",
    "        loss.backward()\n",
    "        optim.step()\n",
    "        \n",
    "        sum_loss += loss.item()\n",
    "        items += len(target)\n",
    "        pbar.set_postfix({'cumulative loss per item': sum_loss / items})\n",
    "model.eval()"
   ]
  },
  {
   "cell_type": "code",
   "execution_count": 15,
   "metadata": {},
   "outputs": [
    {
     "name": "stderr",
     "output_type": "stream",
     "text": [
      "Epoch 10/10: 100%|██████████| 157/157 [00:18<00:00,  8.51it/s]\n"
     ]
    }
   ],
   "source": [
    "pbar = tqdm(enumerate(valid_loader), total=len(valid_loader), desc=f'Epoch {ep + 1}/{epochs}')\n",
    "predicts = None\n",
    "for i, batch in pbar:    \n",
    "    inputs, target = batch[0].to(dev), batch[1].to(dev)\n",
    "    outputs = model(inputs, target).argmax(axis=1)\n",
    "    predicts = outputs.detach().cpu() if predicts is None else torch.cat([predicts, outputs.detach().cpu()])"
   ]
  },
  {
   "cell_type": "code",
   "execution_count": 18,
   "metadata": {},
   "outputs": [
    {
     "name": "stdout",
     "output_type": "stream",
     "text": [
      "<start> оно у тебя есть ? <end>\n",
      "<start> do you have it ? <end>\n",
      "<start> does your wife work ? <end>\n"
     ]
    }
   ],
   "source": [
    "# OVERVIEW\n",
    "IDX = 2\n",
    "\n",
    "source_text = [ru_vocab.id2token[w] for w in valid_dataset[IDX][0].numpy() if w]\n",
    "true_text = [en_vocab.id2token[w] for w in valid_dataset[IDX][1].numpy() if w]\n",
    "pred_text = [[en_vocab.id2token[w] for w in sentence if w] for sentence in predicts.numpy()][IDX]\n",
    "\n",
    "print(' '.join(source_text), ' '.join(true_text), ' '.join(pred_text), sep='\\n')"
   ]
  },
  {
   "cell_type": "code",
   "execution_count": 17,
   "metadata": {},
   "outputs": [],
   "source": [
    "#"
   ]
  }
 ],
 "metadata": {
  "kernelspec": {
   "display_name": "jupyter_default",
   "language": "python",
   "name": "python3"
  },
  "language_info": {
   "codemirror_mode": {
    "name": "ipython",
    "version": 3
   },
   "file_extension": ".py",
   "mimetype": "text/x-python",
   "name": "python",
   "nbconvert_exporter": "python",
   "pygments_lexer": "ipython3",
   "version": "3.9.12"
  },
  "orig_nbformat": 4,
  "vscode": {
   "interpreter": {
    "hash": "23a8a6843721b26098060b435da282c6499d0f0384483463012990926fcfc80c"
   }
  }
 },
 "nbformat": 4,
 "nbformat_minor": 2
}
