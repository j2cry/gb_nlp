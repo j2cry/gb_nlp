{
 "cells": [
  {
   "cell_type": "code",
   "execution_count": 1,
   "metadata": {},
   "outputs": [
    {
     "name": "stdout",
     "output_type": "stream",
     "text": [
      "Selected device: cuda\n"
     ]
    }
   ],
   "source": [
    "import re\n",
    "import random\n",
    "from itertools import chain\n",
    "from collections import Counter\n",
    "from tqdm import tqdm\n",
    "\n",
    "import torch\n",
    "from torch.nn.utils.rnn import pad_sequence\n",
    "\n",
    "from sklearn.model_selection import train_test_split\n",
    "\n",
    "device = 'cuda' if torch.cuda.is_available() else 'cpu'\n",
    "print(f'Selected device: {device}')"
   ]
  },
  {
   "cell_type": "markdown",
   "metadata": {},
   "source": [
    "### load data"
   ]
  },
  {
   "cell_type": "code",
   "execution_count": 2,
   "metadata": {},
   "outputs": [],
   "source": [
    "def word_preprocess(w):\n",
    "    w = w.lower().strip()\n",
    "    # creating a space between a word and the punctuation following it\n",
    "    # eg: \"he is a boy.\" => \"he is a boy .\"\n",
    "    # Reference:- https://stackoverflow.com/questions/3645931/python-padding-punctuation-with-white-spaces-keeping-punctuation\n",
    "    w = re.sub(r\"([?.!,])\", r\" \\1 \", w)\n",
    "    w = re.sub(r'[\" \"]+', \" \", w)\n",
    "    # replacing everything with space except (a-z, A-Z, \".\", \"?\", \"!\", \",\")\n",
    "    w = re.sub(r\"[^a-zA-Zа-яА-Я?.!,']+\", \" \", w)\n",
    "    w = w.strip()\n",
    "    # adding a start and an end token to the sentence\n",
    "    # so that the model know when to start and stop predicting.\n",
    "    w = '<start> ' + w + ' <end>'\n",
    "    return w"
   ]
  },
  {
   "cell_type": "code",
   "execution_count": 3,
   "metadata": {},
   "outputs": [],
   "source": [
    "def read_words(path, n=None, seed=None):\n",
    "    random.seed(seed)\n",
    "    with open(path, 'r', encoding='utf-8') as f:\n",
    "        lines = f.readlines()[:n] if seed == False else random.sample(f.readlines(), n)\n",
    "        lines = [[word_preprocess(w).split() for w in ln.split('\\t')[:2]] for ln in lines]    \n",
    "    return zip(*lines)"
   ]
  },
  {
   "cell_type": "markdown",
   "metadata": {},
   "source": [
    "### build vocabulary"
   ]
  },
  {
   "cell_type": "code",
   "execution_count": 4,
   "metadata": {},
   "outputs": [],
   "source": [
    "class Vocab:\n",
    "    def __init__(self, sentences):\n",
    "        self.counts = Counter(list(chain(*sentences)))\n",
    "        self.id2token = dict(enumerate(self.counts.keys(), 1))\n",
    "        self.token2id = {v: k for k, v in self.id2token.items()}\n",
    "    \n",
    "    def as_tensor(self, sentences):\n",
    "        t = [torch.as_tensor([idx for w in s if (idx := self.token2id.get(w)) is not None]) for s in sentences]\n",
    "        return torch.nn.utils.rnn.pad_sequence(t).T\n",
    "    \n",
    "    @property\n",
    "    def size(self):\n",
    "        return len(self.counts)"
   ]
  },
  {
   "cell_type": "code",
   "execution_count": 5,
   "metadata": {},
   "outputs": [
    {
     "data": {
      "text/plain": [
       "(8241, 20931)"
      ]
     },
     "execution_count": 5,
     "metadata": {},
     "output_type": "execute_result"
    }
   ],
   "source": [
    "# load data and build vocabs\n",
    "en, ru = read_words('rus-eng/rus.txt', n=50000, seed=1)\n",
    "en_vocab = Vocab(en)\n",
    "ru_vocab = Vocab(ru)\n",
    "\n",
    "# size overview\n",
    "en_vocab.size, ru_vocab.size"
   ]
  },
  {
   "cell_type": "code",
   "execution_count": 6,
   "metadata": {},
   "outputs": [
    {
     "data": {
      "text/plain": [
       "(torch.Size([50000, 35]), torch.Size([50000, 32]))"
      ]
     },
     "execution_count": 6,
     "metadata": {},
     "output_type": "execute_result"
    }
   ],
   "source": [
    "# build tensors\n",
    "tensor_en = en_vocab.as_tensor(en)\n",
    "tensor_ru = ru_vocab.as_tensor(ru)\n",
    "\n",
    "tensor_en.shape, tensor_ru.shape"
   ]
  },
  {
   "cell_type": "markdown",
   "metadata": {},
   "source": [
    "### split & build dataset"
   ]
  },
  {
   "cell_type": "code",
   "execution_count": 7,
   "metadata": {},
   "outputs": [],
   "source": [
    "# train/valid split\n",
    "train_en, valid_en, train_ru, valid_ru = train_test_split(tensor_en, tensor_ru, test_size=0.2)"
   ]
  },
  {
   "cell_type": "code",
   "execution_count": 8,
   "metadata": {},
   "outputs": [],
   "source": [
    "class Seq2seqDataset(torch.utils.data.Dataset):\n",
    "    def __init__(self, *seq):\n",
    "        self.seq = seq\n",
    "\n",
    "    def __getitem__(self, index):\n",
    "        return [seq[index] for seq in self.seq]\n",
    "\n",
    "    def __len__(self):\n",
    "        return len(self.seq[0])"
   ]
  },
  {
   "cell_type": "code",
   "execution_count": 9,
   "metadata": {},
   "outputs": [],
   "source": [
    "BATCH_SIZE = 128\n",
    "\n",
    "train_dataset = Seq2seqDataset(train_ru, train_en)\n",
    "valid_dataset = Seq2seqDataset(valid_ru, valid_en)\n",
    "\n",
    "train_loader = torch.utils.data.DataLoader(train_dataset, batch_size=BATCH_SIZE, shuffle=True)\n",
    "valid_loader = torch.utils.data.DataLoader(train_dataset, batch_size=BATCH_SIZE, shuffle=False)"
   ]
  },
  {
   "cell_type": "markdown",
   "metadata": {},
   "source": [
    "### Encoder / Decoder"
   ]
  },
  {
   "cell_type": "code",
   "execution_count": 10,
   "metadata": {},
   "outputs": [],
   "source": [
    "class Encoder(torch.nn.Module):\n",
    "    def __init__(self, dict_size, embedding_dim, hidden_dim):\n",
    "        super().__init__()\n",
    "        self.embs = torch.nn.Embedding(dict_size, embedding_dim)\n",
    "        self.gru = torch.nn.GRU(embedding_dim, hidden_dim, num_layers=2, batch_first=True, bidirectional=True)\n",
    "    \n",
    "    def forward(self, x):\n",
    "        x = self.embs(x)\n",
    "        x, h = self.gru(x)\n",
    "        return h"
   ]
  },
  {
   "cell_type": "code",
   "execution_count": 11,
   "metadata": {},
   "outputs": [],
   "source": [
    "class Decoder(torch.nn.Module):\n",
    "    def __init__(self, dict_size, embedding_dim, hidden_dim, output_dim):\n",
    "        super().__init__()\n",
    "        self.embs = torch.nn.Embedding(dict_size, embedding_dim)\n",
    "        self.gru = torch.nn.GRU(embedding_dim, hidden_dim, num_layers=2, batch_first=True, bidirectional=True)\n",
    "        self.fc = torch.nn.Linear(2 * hidden_dim, output_dim)\n",
    "    \n",
    "    def forward(self, x, h0):\n",
    "        x = self.embs(x)\n",
    "        x, h = self.gru(x, h0)\n",
    "        x = self.fc(x.squeeze(0))\n",
    "        return x, h"
   ]
  },
  {
   "cell_type": "code",
   "execution_count": 12,
   "metadata": {},
   "outputs": [],
   "source": [
    "class Net(torch.nn.Module):\n",
    "    def __init__(self, dict_size, embedding_dim, hidden_dim, output_dim):\n",
    "        super().__init__()\n",
    "        self.enc = Encoder(dict_size, embedding_dim, hidden_dim)\n",
    "        self.dec = Decoder(dict_size, embedding_dim, hidden_dim, output_dim)\n",
    "    \n",
    "    def forward(self, x, t):\n",
    "        h = self.enc(x)\n",
    "        out, h = self.dec(t, h)\n",
    "        return out.permute(0, 2, 1)"
   ]
  },
  {
   "cell_type": "code",
   "execution_count": 13,
   "metadata": {},
   "outputs": [],
   "source": [
    "DICT_SIZE = 50000\n",
    "\n",
    "model = Net(dict_size=DICT_SIZE, embedding_dim=128, hidden_dim=256, output_dim=en_vocab.size).to(device)\n",
    "\n",
    "optimizer = torch.optim.Adam(model.parameters(), lr=0.01)\n",
    "criterion = torch.nn.CrossEntropyLoss()"
   ]
  },
  {
   "cell_type": "code",
   "execution_count": 14,
   "metadata": {},
   "outputs": [
    {
     "name": "stderr",
     "output_type": "stream",
     "text": [
      "Epoch 1/5: 100%|██████████| 313/313 [00:32<00:00,  9.54it/s, cumulative loss per item=0.00228]\n",
      "Epoch 2/5: 100%|██████████| 313/313 [00:32<00:00,  9.51it/s, cumulative loss per item=0.000329]\n",
      "Epoch 3/5: 100%|██████████| 313/313 [00:32<00:00,  9.50it/s, cumulative loss per item=0.000117]\n",
      "Epoch 4/5: 100%|██████████| 313/313 [00:32<00:00,  9.49it/s, cumulative loss per item=4.14e-5]\n",
      "Epoch 5/5: 100%|██████████| 313/313 [00:32<00:00,  9.50it/s, cumulative loss per item=3.51e-5]\n"
     ]
    },
    {
     "data": {
      "text/plain": [
       "Net(\n",
       "  (enc): Encoder(\n",
       "    (embs): Embedding(50000, 128)\n",
       "    (gru): GRU(128, 256, num_layers=2, batch_first=True, bidirectional=True)\n",
       "  )\n",
       "  (dec): Decoder(\n",
       "    (embs): Embedding(50000, 128)\n",
       "    (gru): GRU(128, 256, num_layers=2, batch_first=True, bidirectional=True)\n",
       "    (fc): Linear(in_features=512, out_features=8241, bias=True)\n",
       "  )\n",
       ")"
      ]
     },
     "execution_count": 14,
     "metadata": {},
     "output_type": "execute_result"
    }
   ],
   "source": [
    "epochs = 5\n",
    "dev = device\n",
    "optim = optimizer\n",
    "\n",
    "model.train()\n",
    "for ep in range(epochs):\n",
    "    sum_loss, items = 0.0, 0\n",
    "    pbar = tqdm(enumerate(train_loader), total=len(train_loader), desc=f'Epoch {ep + 1}/{epochs}')\n",
    "    for i, batch in pbar:\n",
    "        inputs, target = batch[0].to(dev), batch[1].to(dev)\n",
    "        optim.zero_grad()\n",
    "\n",
    "        outputs = model(inputs, target)\n",
    "\n",
    "        loss = criterion(outputs, target)\n",
    "        loss.backward()\n",
    "        optim.step()\n",
    "        \n",
    "        sum_loss += loss.item()\n",
    "        items += len(target)\n",
    "        pbar.set_postfix({'cumulative loss per item': sum_loss / items})\n",
    "model.eval()"
   ]
  },
  {
   "cell_type": "code",
   "execution_count": 15,
   "metadata": {},
   "outputs": [
    {
     "name": "stderr",
     "output_type": "stream",
     "text": [
      "Epoch 5/5: 100%|██████████| 313/313 [00:07<00:00, 41.13it/s]\n"
     ]
    }
   ],
   "source": [
    "pbar = tqdm(enumerate(valid_loader), total=len(valid_loader), desc=f'Epoch {ep + 1}/{epochs}')\n",
    "predicts = None\n",
    "for i, batch in pbar:    \n",
    "    inputs, target = batch[0].to(dev), batch[1].to(dev)\n",
    "    outputs = model(inputs, target).argmax(axis=1)\n",
    "    predicts = outputs.detach().cpu() if predicts is None else torch.cat([predicts, outputs.detach().cpu()])"
   ]
  },
  {
   "cell_type": "code",
   "execution_count": 16,
   "metadata": {},
   "outputs": [
    {
     "name": "stdout",
     "output_type": "stream",
     "text": [
      "<start> я видел тома , сидящего в одиночестве в баре и пьющего вино . <end>\n",
      "<start> i saw tom sitting at the bar alone , drinking wine . <end>\n",
      "<start> i'm sorry i've kept you waiting so long . <end>\n"
     ]
    }
   ],
   "source": [
    "# OVERVIEW\n",
    "IDX = 4\n",
    "\n",
    "source_text = [ru_vocab.id2token[w] for w in valid_dataset[IDX][0].numpy() if w]\n",
    "true_text = [en_vocab.id2token[w] for w in valid_dataset[IDX][1].numpy() if w]\n",
    "pred_text = [[en_vocab.id2token[w] for w in sentence if w] for sentence in predicts.numpy()][IDX]\n",
    "\n",
    "print(' '.join(source_text), ' '.join(true_text), ' '.join(pred_text), sep='\\n')"
   ]
  },
  {
   "cell_type": "code",
   "execution_count": null,
   "metadata": {},
   "outputs": [],
   "source": []
  },
  {
   "cell_type": "code",
   "execution_count": 17,
   "metadata": {},
   "outputs": [],
   "source": [
    "#"
   ]
  }
 ],
 "metadata": {
  "kernelspec": {
   "display_name": "jupyter_default",
   "language": "python",
   "name": "python3"
  },
  "language_info": {
   "codemirror_mode": {
    "name": "ipython",
    "version": 3
   },
   "file_extension": ".py",
   "mimetype": "text/x-python",
   "name": "python",
   "nbconvert_exporter": "python",
   "pygments_lexer": "ipython3",
   "version": "3.9.12 (main, Apr  5 2022, 06:56:58) \n[GCC 7.5.0]"
  },
  "orig_nbformat": 4,
  "vscode": {
   "interpreter": {
    "hash": "23a8a6843721b26098060b435da282c6499d0f0384483463012990926fcfc80c"
   }
  }
 },
 "nbformat": 4,
 "nbformat_minor": 2
}
