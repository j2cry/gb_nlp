{
 "cells": [
  {
   "cell_type": "code",
   "execution_count": 1,
   "metadata": {},
   "outputs": [],
   "source": [
    "import pathlib\n",
    "import sys\n",
    "\n",
    "root = pathlib.Path().cwd()\n",
    "while not root.joinpath('.projectroot').exists():\n",
    "    root = root.parent\n",
    "\n",
    "sys.path.append(root.as_posix())"
   ]
  },
  {
   "cell_type": "code",
   "execution_count": 2,
   "metadata": {},
   "outputs": [],
   "source": [
    "import os\n",
    "import numpy as np\n",
    "import pandas as pd\n",
    "from ast import literal_eval\n",
    "from collections import Counter, defaultdict\n",
    "from functools import partial\n",
    "\n",
    "import torch\n",
    "from hw5.common import TaggerDataset, TorchTrainable\n",
    "\n",
    "from tqdm import tqdm\n",
    "from sklearn.metrics import classification_report\n",
    "\n",
    "DATA = pathlib.Path('data')"
   ]
  },
  {
   "cell_type": "markdown",
   "metadata": {},
   "source": [
    "__load data__"
   ]
  },
  {
   "cell_type": "code",
   "execution_count": 3,
   "metadata": {},
   "outputs": [],
   "source": [
    "train_tokens = pd.read_csv(DATA / 'prepared_train.csv', converters={'tokens': literal_eval})\n",
    "valid_tokens = pd.read_csv(DATA / 'prepared_valid.csv', converters={'tokens': literal_eval})"
   ]
  },
  {
   "cell_type": "code",
   "execution_count": 4,
   "metadata": {},
   "outputs": [
    {
     "data": {
      "image/png": "[encoded data removed]",
      "text/plain": [
       "<Figure size 432x288 with 1 Axes>"
      ]
     },
     "metadata": {
      "needs_background": "light"
     },
     "output_type": "display_data"
    }
   ],
   "source": [
    "# распределение длин текстов\n",
    "train_tokens['tokens'].str.len().hist(bins=50, alpha=0.9)\n",
    "valid_tokens['tokens'].str.len().hist(bins=50, alpha=0.9);"
   ]
  },
  {
   "cell_type": "code",
   "execution_count": 5,
   "metadata": {},
   "outputs": [],
   "source": [
    "class TokenDictionary:\n",
    "    def __init__(self, corpus):\n",
    "        all_tokens = [token for doc in corpus for token in doc]\n",
    "        self.counter = Counter(all_tokens)\n",
    "        self.id2token = dict(enumerate(set(all_tokens), 1))\n",
    "        self.token2id = defaultdict(int, {v: k for k, v in self.id2token.items()})      # если токена нет в словаре, возвращать 0\n",
    "        self.size = len(self.id2token)\n",
    "    \n",
    "    def convert(self, tokens, length):\n",
    "        pad = [0] * (length - len(tokens))\n",
    "        return [self.token2id[w] for w in tokens][-length:] + pad\n",
    "        \n",
    "\n",
    "# collect dictionary\n",
    "words = TokenDictionary(train_tokens['tokens'])"
   ]
  },
  {
   "cell_type": "code",
   "execution_count": 9,
   "metadata": {},
   "outputs": [],
   "source": [
    "# build data\n",
    "LENGTH = 100\n",
    "BATCH_SIZE = 256\n",
    "\n",
    "train = train_tokens['tokens'].apply(partial(words.convert, length=LENGTH))\n",
    "valid = valid_tokens['tokens'].apply(partial(words.convert, length=LENGTH))\n",
    "\n",
    "train_dataset = TaggerDataset(train.values, train_tokens['is_positive'].apply(lambda x: [float(x)]).values)\n",
    "valid_dataset = TaggerDataset(valid.values, valid_tokens['is_positive'].apply(lambda x: [float(x)]).values)\n",
    "\n",
    "train_loader = torch.utils.data.DataLoader(train_dataset, batch_size=BATCH_SIZE, shuffle=True)\n",
    "valid_loader = torch.utils.data.DataLoader(valid_dataset, batch_size=BATCH_SIZE, shuffle=False)"
   ]
  },
  {
   "cell_type": "markdown",
   "metadata": {},
   "source": [
    "__NN torch__"
   ]
  },
  {
   "cell_type": "code",
   "execution_count": 7,
   "metadata": {},
   "outputs": [],
   "source": [
    "class Net(torch.nn.Module, TorchTrainable):\n",
    "    def __init__(self, dict_size, embedding_dim=128, drop=0.3, num_classes=1):\n",
    "        super().__init__()\n",
    "        self.embedding = torch.nn.Embedding(dict_size, 2 * embedding_dim)\n",
    "        self.conv_1 = torch.nn.Conv1d(2 * embedding_dim, embedding_dim, kernel_size=2)\n",
    "\n",
    "        self.linear = torch.nn.Linear(embedding_dim, num_classes)\n",
    "        self.dp = torch.nn.Dropout(drop)\n",
    "        \n",
    "    def forward(self, x):        \n",
    "        x = self.embedding(x)\n",
    "        x = x.permute(0, 2, 1)\n",
    "        x = self.conv_1(x)\n",
    "\n",
    "        x = torch.relu(x)\n",
    "        x = torch.max_pool1d(x, 2)\n",
    "        x = self.dp(x)\n",
    "\n",
    "        x = torch.max(x, axis=2).values\n",
    "        x = self.linear(x)\n",
    "        x = torch.sigmoid(x)\n",
    "        return x"
   ]
  },
  {
   "cell_type": "code",
   "execution_count": 10,
   "metadata": {},
   "outputs": [
    {
     "name": "stdout",
     "output_type": "stream",
     "text": [
      "Selected device: cuda\n"
     ]
    },
    {
     "name": "stderr",
     "output_type": "stream",
     "text": [
      "Epoch 1/3: 100%|██████████| 98/98 [00:03<00:00, 30.26it/s, cumulative loss per item=0.00184]\n",
      "Epoch 2/3: 100%|██████████| 98/98 [00:03<00:00, 27.73it/s, cumulative loss per item=0.000805]\n",
      "Epoch 3/3: 100%|██████████| 98/98 [00:03<00:00, 30.03it/s, cumulative loss per item=0.000222]"
     ]
    },
    {
     "name": "stdout",
     "output_type": "stream",
     "text": [
      "\n",
      "Done.\n"
     ]
    },
    {
     "name": "stderr",
     "output_type": "stream",
     "text": [
      "\n"
     ]
    }
   ],
   "source": [
    "device = 'cuda' if torch.cuda.is_available() else 'cpu'\n",
    "print(f'Selected device: {device}')\n",
    "\n",
    "model = Net(dict_size=120000, embedding_dim=128, drop=0.05, num_classes=1).to(device)\n",
    "optimizer = torch.optim.Adam(model.parameters(), lr=0.01)\n",
    "criterion = torch.nn.BCELoss()\n",
    "\n",
    "model.fit(train_loader, optimizer, criterion, epochs=3, device=device)"
   ]
  },
  {
   "cell_type": "code",
   "execution_count": 11,
   "metadata": {},
   "outputs": [
    {
     "name": "stdout",
     "output_type": "stream",
     "text": [
      "              precision    recall  f1-score   support\n",
      "\n",
      "           0       0.88      0.81      0.84     12500\n",
      "           1       0.82      0.89      0.85     12500\n",
      "\n",
      "    accuracy                           0.85     25000\n",
      "   macro avg       0.85      0.85      0.85     25000\n",
      "weighted avg       0.85      0.85      0.85     25000\n",
      "\n"
     ]
    }
   ],
   "source": [
    "model.eval()\n",
    "predicts = (model.predict(valid_loader).flatten() > 0.5) * 1\n",
    "print(classification_report(valid_tokens['is_positive'], predicts))"
   ]
  },
  {
   "cell_type": "code",
   "execution_count": null,
   "metadata": {},
   "outputs": [],
   "source": [
    "#"
   ]
  }
 ],
 "metadata": {
  "kernelspec": {
   "display_name": "Python 3.9.12 ('jupyter_default')",
   "language": "python",
   "name": "python3"
  },
  "language_info": {
   "codemirror_mode": {
    "name": "ipython",
    "version": 3
   },
   "file_extension": ".py",
   "mimetype": "text/x-python",
   "name": "python",
   "nbconvert_exporter": "python",
   "pygments_lexer": "ipython3",
   "version": "3.9.12"
  },
  "orig_nbformat": 4,
  "vscode": {
   "interpreter": {
    "hash": "23a8a6843721b26098060b435da282c6499d0f0384483463012990926fcfc80c"
   }
  }
 },
 "nbformat": 4,
 "nbformat_minor": 2
}
